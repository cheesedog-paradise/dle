{
  "cells": [
    {
      "cell_type": "markdown",
      "metadata": {
        "id": "view-in-github",
        "colab_type": "text"
      },
      "source": [
        "<a href=\"https://colab.research.google.com/github/cheesedog-paradise/dle/blob/main/project/dlxx_prj01_mid_exam.ipynb\" target=\"_parent\"><img src=\"https://colab.research.google.com/assets/colab-badge.svg\" alt=\"Open In Colab\"/></a>"
      ]
    },
    {
      "cell_type": "markdown",
      "id": "2fFPQAepm-ui",
      "metadata": {
        "id": "2fFPQAepm-ui"
      },
      "source": [
        "# DLe: Project01 - start\n",
        "- ### data: sklearn이 제공하는 당뇨병 데이터  \n",
        "- ### analysis:  Keras MLP Regression \n"
      ]
    },
    {
      "cell_type": "markdown",
      "id": "2a548180",
      "metadata": {
        "id": "2a548180"
      },
      "source": [
        "# pandas\n",
        "## MLP\n",
        "    * 당뇨병 데이터 MLP 회기 분석 모형\n",
        "\n",
        "> [참고] https://www.tensorflow.org/tutorials/keras/regression?hl=ko"
      ]
    },
    {
      "cell_type": "code",
      "execution_count": null,
      "id": "UKka-72H30MT",
      "metadata": {
        "id": "UKka-72H30MT"
      },
      "outputs": [],
      "source": [
        "# import\n",
        "import matplotlib.pylab as plt\n",
        "import numpy as np\n",
        "from sklearn import datasets"
      ]
    },
    {
      "cell_type": "code",
      "execution_count": null,
      "id": "5eb304fa",
      "metadata": {
        "id": "5eb304fa"
      },
      "outputs": [],
      "source": [
        "#\n",
        "# pandas\n",
        "#\n",
        "########################################\n",
        "# 당뇨병 데이터 구조 => DataFrame\n",
        "# Attribute Information:\n",
        "#     - age     age in years\n",
        "#     - sex\n",
        "#     - bmi     body mass index\n",
        "#     - bp      average blood pressure\n",
        "#     - s1      tc, T-Cells (a type of white blood cells)\n",
        "#     - s2      ldl, low-density lipoproteins\n",
        "#     - s3      hdl, high-density lipoproteins\n",
        "#     - s4      tch, thyroid stimulating hormone\n",
        "#     - s5      ltg, lamotrigine\n",
        "#     - s6      glu, blood sugar level\n",
        "# - target  a quantitative measure of disease progression one year after baseline\n",
        "# [참고] https://wikidocs.net/49981\n",
        "#       https://suhyun72.tistory.com/entry/%EC%82%AC%EC%9D%B4%ED%82%B7%EB%9F%B0-scikit-learnsklearn-diabetes\n",
        "#\n",
        "########################################\n",
        "df0 = datasets.load_diabetes(as_frame=True)   # data bunch\n",
        "# Make dataframe from data bunch\n",
        "df=df0.frame\n",
        "print(df.shape)\n",
        "print(df.columns)\n",
        "df.head()"
      ]
    },
    {
      "cell_type": "code",
      "execution_count": null,
      "id": "RAPqAqsd3f4a",
      "metadata": {
        "id": "RAPqAqsd3f4a"
      },
      "outputs": [],
      "source": [
        "df.info()"
      ]
    },
    {
      "cell_type": "code",
      "source": [
        "df.shape"
      ],
      "metadata": {
        "id": "UAVI6gXvaglS"
      },
      "id": "UAVI6gXvaglS",
      "execution_count": null,
      "outputs": []
    },
    {
      "cell_type": "markdown",
      "id": "jnGsYaI09VH3",
      "metadata": {
        "id": "jnGsYaI09VH3"
      },
      "source": [
        "## Check data"
      ]
    },
    {
      "cell_type": "code",
      "execution_count": null,
      "id": "nUhSAxrB9Xcp",
      "metadata": {
        "id": "nUhSAxrB9Xcp"
      },
      "outputs": [],
      "source": [
        "# NaN, null\n",
        "df.isna().sum()"
      ]
    },
    {
      "cell_type": "code",
      "execution_count": null,
      "id": "UMmtNa2o9hUa",
      "metadata": {
        "id": "UMmtNa2o9hUa"
      },
      "outputs": [],
      "source": [
        "# Duplicates\n",
        "df.duplicated().sum()"
      ]
    },
    {
      "cell_type": "markdown",
      "id": "0IdiGapq418H",
      "metadata": {
        "id": "0IdiGapq418H"
      },
      "source": [
        "## target의 값을 결정하는 중요한 특징\n",
        "- 양의 상관성: bmi, bp, s5\n",
        "- 반상관성 : s3"
      ]
    },
    {
      "cell_type": "code",
      "execution_count": null,
      "id": "PziErFc35uBC",
      "metadata": {
        "id": "PziErFc35uBC"
      },
      "outputs": [],
      "source": [
        "import seaborn as sns\n",
        "plt.figure(figsize=(8,7))\n",
        "sns.heatmap(df.corr(), \n",
        "        xticklabels=df.columns,\n",
        "        yticklabels=df.columns,\n",
        "        vmin= -1, vmax=1.0, cmap='coolwarm',\n",
        "        annot=True, fmt='.2f')\n",
        "plt.show()"
      ]
    },
    {
      "cell_type": "code",
      "execution_count": null,
      "id": "7Z5bDeut5W3r",
      "metadata": {
        "id": "7Z5bDeut5W3r"
      },
      "outputs": [],
      "source": [
        "df[['bmi','bp','s3','s5']].plot()"
      ]
    },
    {
      "cell_type": "code",
      "execution_count": null,
      "id": "K75wLuu95phI",
      "metadata": {
        "id": "K75wLuu95phI"
      },
      "outputs": [],
      "source": [
        "plt.figure(figsize=(8,8))\n",
        "sns.pairplot(df[['bmi', 'bp', 's3','s5','target']])\n",
        "plt.show()"
      ]
    },
    {
      "cell_type": "markdown",
      "id": "feedd45c",
      "metadata": {
        "id": "feedd45c"
      },
      "source": [
        "---"
      ]
    },
    {
      "cell_type": "markdown",
      "id": "bSNEpl8FCZt2",
      "metadata": {
        "id": "bSNEpl8FCZt2"
      },
      "source": [
        "## 데이터 구성\n",
        "- train data\n",
        "- test data\n"
      ]
    },
    {
      "cell_type": "code",
      "execution_count": null,
      "id": "96d6e709",
      "metadata": {
        "id": "96d6e709"
      },
      "outputs": [],
      "source": [
        "df.columns"
      ]
    },
    {
      "cell_type": "code",
      "execution_count": null,
      "id": "22a44d44",
      "metadata": {
        "id": "22a44d44"
      },
      "outputs": [],
      "source": [
        "X = df[['bmi', 'bp', 's3','s5']].values\n",
        "y = df[['target']].values\n",
        "\n",
        "X.shape,y.shape, type(X),type(y)"
      ]
    },
    {
      "cell_type": "code",
      "execution_count": null,
      "id": "Yk0Ot67yDJQR",
      "metadata": {
        "id": "Yk0Ot67yDJQR"
      },
      "outputs": [],
      "source": [
        "y = np.squeeze(y, 1)\n",
        "X.shape, y.shape"
      ]
    },
    {
      "cell_type": "code",
      "execution_count": null,
      "id": "qi60dZXKDHIF",
      "metadata": {
        "id": "qi60dZXKDHIF"
      },
      "outputs": [],
      "source": [
        "# train, test data\n",
        "from sklearn.model_selection import train_test_split\n",
        "\n",
        "X_train,X_test, y_train, y_test = train_test_split(X,y,test_size = 0.2, random_state= 42)\n",
        "X_train.shape,X_test.shape, y_train.shape, y_test.shape"
      ]
    },
    {
      "cell_type": "markdown",
      "id": "JFYWYhZCD5A9",
      "metadata": {
        "id": "JFYWYhZCD5A9"
      },
      "source": [
        "## MLP model\n",
        "- Sequential model\n",
        "- Functional model"
      ]
    },
    {
      "cell_type": "code",
      "execution_count": null,
      "id": "37teTeaaEP7A",
      "metadata": {
        "id": "37teTeaaEP7A"
      },
      "outputs": [],
      "source": [
        "import tensorflow as tf\n",
        "from keras.models import Sequential\n",
        "from keras.layers import Dense\n",
        "from keras.utils import plot_model"
      ]
    },
    {
      "cell_type": "markdown",
      "id": "a3a60995",
      "metadata": {
        "id": "a3a60995"
      },
      "source": [
        "### Sequential model"
      ]
    },
    {
      "cell_type": "code",
      "execution_count": null,
      "id": "LVXjRpInD_sv",
      "metadata": {
        "id": "LVXjRpInD_sv"
      },
      "outputs": [],
      "source": [
        "# Sequential model\n",
        "model = Sequential()\n",
        "    \n",
        "model.add(Dense(16, input_shape = (4,), activation = 'relu'))\n",
        "# model.add(Dense(16, input_shape = (X_train.shape[1],), activation = 'relu'))  # X_train.shape[1]\n",
        "model.add(Dense(8, activation = 'relu'))\n",
        "model.add(Dense(1, activation = 'linear'))  #, activation = 'sigmoid'))\n",
        "    \n",
        "optimizer = tf.keras.optimizers.RMSprop(0.001)\n",
        "model.compile(loss = 'mse', optimizer =optimizer,  metrics = ['mse'] )\n",
        "# model.compile(loss = 'mse', optimizer ='adam',  metrics = ['mse'] )\n",
        "    \n",
        "model.summary()"
      ]
    },
    {
      "cell_type": "code",
      "execution_count": null,
      "id": "539a53ff",
      "metadata": {
        "id": "539a53ff"
      },
      "outputs": [],
      "source": [
        "plot_model(model, show_shapes=True)"
      ]
    },
    {
      "cell_type": "code",
      "execution_count": null,
      "id": "fx54QjjJFMbO",
      "metadata": {
        "id": "fx54QjjJFMbO"
      },
      "outputs": [],
      "source": [
        "# Training\n",
        "history = model.fit(X_train, y_train, \n",
        "          epochs= 200, \n",
        "          batch_size = 10,\n",
        "          validation_split = 0.2, verbose=2)"
      ]
    },
    {
      "cell_type": "code",
      "execution_count": null,
      "id": "CMgwJOv8Gcnk",
      "metadata": {
        "id": "CMgwJOv8Gcnk"
      },
      "outputs": [],
      "source": [
        "# Training graphs\n",
        "#\n",
        "import numpy as np\n",
        "\n",
        "history_dict = history.history \n",
        "loss = history_dict['loss']\n",
        "val_loss = history_dict['val_loss']\n",
        "\n",
        "epochs = range(1, len(loss) + 1)\n",
        "\n",
        "plt.figure(figsize=(14, 4))\n",
        "\n",
        "plt.subplot(1,2,1)\n",
        "plt.plot(epochs, loss, 'go-', label='Training Loss')\n",
        "plt.plot(epochs, val_loss, 'bd', label='Validation Loss')\n",
        "plt.plot(np.argmin(np.array(val_loss))+1,val_loss[np.argmin(np.array(val_loss))], 'r*', ms=12)\n",
        "plt.title('Training and Validation Loss, min: ' + str(np.round(val_loss[np.argmin(np.array(val_loss))],2)))\n",
        "plt.xlabel('Epochs')\n",
        "plt.ylabel('Loss')\n",
        "plt.legend()\n",
        "\n",
        "mse = history_dict['mse']\n",
        "val_mse = history_dict['val_mse']\n",
        "\n",
        "epochs = range(1, len(loss) + 1)\n",
        "\n",
        "plt.subplot(1,2,2)\n",
        "plt.plot(epochs, mse, 'go-', label='Training MSE') #, c='blue')\n",
        "plt.plot(epochs, val_mse, 'bd', label='Validation MSE') #, c='red')\n",
        "plt.plot(np.argmin(np.array(val_mse))+1,val_mse[np.argmin(np.array(val_mse))], 'r*', ms=12)\n",
        "plt.title('Training and Validation MSE, min: ' + str(np.round(val_mse[np.argmin(np.array(val_mse))],2)))\n",
        "plt.xlabel('Epochs')\n",
        "plt.ylabel('MSE')\n",
        "plt.legend()\n",
        "plt.show()"
      ]
    },
    {
      "cell_type": "code",
      "execution_count": null,
      "id": "QQkYhPlQKXHI",
      "metadata": {
        "id": "QQkYhPlQKXHI"
      },
      "outputs": [],
      "source": [
        "# test 데이터에 대한 평가\n",
        "loss, mse = model.evaluate(X_test, y_test, verbose=2, batch_size=10)\n",
        "\n",
        "print(\"테스트 세트의 MSE: {:5.2f} \".format(mse))"
      ]
    },
    {
      "cell_type": "code",
      "execution_count": null,
      "id": "eq9qoIa_MJwD",
      "metadata": {
        "id": "eq9qoIa_MJwD"
      },
      "outputs": [],
      "source": [
        "# 예측\n",
        "# 테스트 데이터에 있는 샘플을 사용해 target 값을 예측해 보겠습니다:\n",
        "# target  a quantitative measure of disease progression one year after baseline\n",
        "y_pred= model.predict(X_test, batch_size=10) \n",
        "y_pred"
      ]
    },
    {
      "cell_type": "code",
      "execution_count": null,
      "id": "sYrfxqKELXL0",
      "metadata": {
        "id": "sYrfxqKELXL0"
      },
      "outputs": [],
      "source": [
        "# 테스트데이터에 대한 최종 평가\n",
        "from sklearn.metrics import mean_squared_error, r2_score\n",
        "print('mean_squared_errors: {}'.format(mean_squared_error(y_test, y_pred)))\n",
        "r2score = r2_score(y_test, y_pred)\n",
        "print(f'r2_score: {r2score}')\n"
      ]
    },
    {
      "cell_type": "code",
      "execution_count": null,
      "id": "q2YURVYNN8m5",
      "metadata": {
        "id": "q2YURVYNN8m5"
      },
      "outputs": [],
      "source": [
        "plt.scatter(y_test, y_pred,  color='black')\n",
        "plt.plot(y_test, y_test, 'r', linewidth=3)\n",
        "plt.xlabel('True Values [DM]')\n",
        "plt.ylabel('Predictions [DM]')\n",
        "plt.title(f'r2_score = {np.round(r2score,3)}')\n",
        "# plt.axis('equal')\n",
        "# plt.axis('square')\n",
        "plt.show()"
      ]
    },
    {
      "cell_type": "markdown",
      "id": "c209aba0",
      "metadata": {
        "id": "c209aba0"
      },
      "source": [
        "## Summary\n",
        "### r2_score\n",
        "1. loss='mse',  optimizer ='rmsprop'  \n",
        "    - 0.444 for X = df[['bmi', 'bp', 's3','s5']].values  \n",
        "    - 0.452 for X = df[['bmi', 'bp', 's4','s5']].values  \n",
        "\n",
        "2. loss='mse',  optimizer ='adam'  \n",
        "    - 0.441 for X = df[['bmi', 'bp', 's3','s5']].values  \n",
        "    - 0.459 for X = df[['bmi', 'bp', 's4','s5']].values  \n",
        "> 반상관 특징인 s3를 정상관 특징인 s4로 대체하면 회기 성능이 개선된다.  "
      ]
    },
    {
      "cell_type": "markdown",
      "id": "e-6oJkE6PMxy",
      "metadata": {
        "id": "e-6oJkE6PMxy"
      },
      "source": [
        "---\n",
        "---"
      ]
    },
    {
      "cell_type": "markdown",
      "id": "wXi9iJOOxl5u",
      "metadata": {
        "id": "wXi9iJOOxl5u"
      },
      "source": [
        "### [DIY] MLP Functional model을 구성해서 분석하시오."
      ]
    },
    {
      "cell_type": "code",
      "execution_count": null,
      "metadata": {
        "id": "FXoOpVXKyuZU"
      },
      "outputs": [],
      "source": [
        "# Functional model\n",
        "from keras import layers, models\n",
        "\n",
        "inputs = layers.Input(shape=(4,))\n",
        "x = Dense(16, activation='relu')(inputs)\n",
        "x = Dense(8, activation='relu')(x)\n",
        "output = Dense(1, activation='linear')(x)\n",
        "\n",
        "model = models.Model(inputs=inputs, outputs=output)\n",
        "\n",
        "optimizer = tf.keras.optimizers.RMSprop(0.001)\n",
        "model.compile(loss = 'mse', optimizer =optimizer,  metrics = ['mse'] )\n",
        "# model.compile(loss = 'mse', optimizer ='adam',  metrics = ['mse'] )\n",
        "\n",
        "model.summary()"
      ],
      "id": "FXoOpVXKyuZU"
    },
    {
      "cell_type": "code",
      "execution_count": null,
      "metadata": {
        "id": "exZHPqy-l2rF"
      },
      "outputs": [],
      "source": [
        "# Training\n",
        "history = model.fit(X_train, y_train, \n",
        "          epochs= 200, \n",
        "          batch_size = 10,\n",
        "          validation_split = 0.2, verbose=2)"
      ],
      "id": "exZHPqy-l2rF"
    },
    {
      "cell_type": "code",
      "execution_count": null,
      "metadata": {
        "id": "8KWBDD4yl2rR"
      },
      "outputs": [],
      "source": [
        "# Training graphs\n",
        "#\n",
        "import numpy as np\n",
        "\n",
        "history_dict = history.history \n",
        "loss = history_dict['loss']\n",
        "val_loss = history_dict['val_loss']\n",
        "\n",
        "epochs = range(1, len(loss) + 1)\n",
        "\n",
        "plt.figure(figsize=(14, 4))\n",
        "\n",
        "plt.subplot(1,2,1)\n",
        "plt.plot(epochs, loss, 'go-', label='Training Loss')\n",
        "plt.plot(epochs, val_loss, 'bd', label='Validation Loss')\n",
        "plt.plot(np.argmin(np.array(val_loss))+1,val_loss[np.argmin(np.array(val_loss))], 'r*', ms=12)\n",
        "plt.title('Training and Validation Loss, min: ' + str(np.round(val_loss[np.argmin(np.array(val_loss))],2)))\n",
        "plt.xlabel('Epochs')\n",
        "plt.ylabel('Loss')\n",
        "plt.legend()\n",
        "\n",
        "mse = history_dict['mse']\n",
        "val_mse = history_dict['val_mse']\n",
        "\n",
        "epochs = range(1, len(loss) + 1)\n",
        "\n",
        "plt.subplot(1,2,2)\n",
        "plt.plot(epochs, mse, 'go-', label='Training MSE') #, c='blue')\n",
        "plt.plot(epochs, val_mse, 'bd', label='Validation MSE') #, c='red')\n",
        "plt.plot(np.argmin(np.array(val_mse))+1,val_mse[np.argmin(np.array(val_mse))], 'r*', ms=12)\n",
        "plt.title('Training and Validation MSE, min: ' + str(np.round(val_mse[np.argmin(np.array(val_mse))],2)))\n",
        "plt.xlabel('Epochs')\n",
        "plt.ylabel('MSE')\n",
        "plt.legend()\n",
        "plt.show()"
      ],
      "id": "8KWBDD4yl2rR"
    },
    {
      "cell_type": "code",
      "execution_count": null,
      "metadata": {
        "id": "YUtXfiSCl2rR"
      },
      "outputs": [],
      "source": [
        "# test 데이터에 대한 평가\n",
        "loss, mse = model.evaluate(X_test, y_test, verbose=2, batch_size=10)\n",
        "\n",
        "print(\"테스트 세트의 MSE: {:5.2f} \".format(mse))"
      ],
      "id": "YUtXfiSCl2rR"
    },
    {
      "cell_type": "code",
      "execution_count": null,
      "metadata": {
        "id": "LnxVCk0Xl2rR"
      },
      "outputs": [],
      "source": [
        "# 예측\n",
        "# 테스트 데이터에 있는 샘플을 사용해 target 값을 예측해 보겠습니다:\n",
        "# target  a quantitative measure of disease progression one year after baseline\n",
        "\n",
        "y_pred= model.predict(X_test, batch_size=10)  #.flatten()\n",
        "print('mean_squared_errors: {}'.format(mean_squared_error(y_test, y_pred)))\n",
        "r2score = r2_score(y_test, y_pred)\n",
        "print(f'r2_score: {r2score}')\n"
      ],
      "id": "LnxVCk0Xl2rR"
    },
    {
      "cell_type": "code",
      "execution_count": null,
      "metadata": {
        "id": "GnDKLfRll2rR"
      },
      "outputs": [],
      "source": [
        "plt.scatter(y_test, y_pred,  color='black')\n",
        "plt.plot(y_test, y_test, 'r', linewidth=3)\n",
        "plt.xlabel('True Values [DM]')\n",
        "plt.ylabel('Predictions [DM]')\n",
        "plt.title(f'r2_score = {np.round(r2score,3)}')\n",
        "# plt.axis('equal')\n",
        "# plt.axis('square')\n",
        "plt.show()"
      ],
      "id": "GnDKLfRll2rR"
    },
    {
      "cell_type": "code",
      "execution_count": null,
      "metadata": {
        "id": "v3n-Mp0sl2rR"
      },
      "outputs": [],
      "source": [
        "# 테스트데이터에 대한 최종 평가\n",
        "from sklearn.metrics import mean_squared_error, r2_score\n",
        "print('mean_squared_errors: {}'.format(mean_squared_error(y_test, y_pred)))\n",
        "print('r2_score: {}'.format(r2_score(y_test, y_pred)))"
      ],
      "id": "v3n-Mp0sl2rR"
    },
    {
      "cell_type": "markdown",
      "metadata": {
        "id": "kWaOyxKJmF9L"
      },
      "source": [
        "---\n",
        "---\n",
        "[DIY] 다음에 도전해서 아래에 완성하시오.\n",
        "> MLP 딥러닝을 이용한 선형회기의 이해\n",
        "---\n",
        "---\n",
        "## target의 값을 결정하는 중요한 특징을 변경\n",
        "- 양의 상관성: bmi, bp, s5  || 반상관성 : s3\n",
        "\n",
        "1. 양의 상관성 특징에서 bp를 제외하고 모델을 훈련\n",
        "2. 양의 상관성 특징에 s4를 추가해서 모델을 훈련 (bp는 제거)\n",
        "3. optimizer 또는 activation 을 변경해서 Sequential 또는 Functional 모델을 훈련\n",
        "4. 위의 결과를 비교하는 결과 정리\n",
        "\n",
        "- dlxx_prj01_mid_exam.ipynb 파일을 chaos21c@gmail.com 으로 첨부해서 보내세요.\n",
        "    - 메일 제목: dlxx 이름\n",
        "\n"
      ],
      "id": "kWaOyxKJmF9L"
    },
    {
      "cell_type": "code",
      "source": [],
      "metadata": {
        "id": "e0Bf5Z-7ytM0"
      },
      "id": "e0Bf5Z-7ytM0",
      "execution_count": null,
      "outputs": []
    }
  ],
  "metadata": {
    "colab": {
      "provenance": [],
      "include_colab_link": true
    },
    "kernelspec": {
      "display_name": "Python 3 (Spyder)",
      "language": "python3",
      "name": "python3"
    },
    "language_info": {
      "codemirror_mode": {
        "name": "ipython",
        "version": 3
      },
      "file_extension": ".py",
      "mimetype": "text/x-python",
      "name": "python",
      "nbconvert_exporter": "python",
      "pygments_lexer": "ipython3",
      "version": "3.9.13"
    },
    "gpuClass": "standard"
  },
  "nbformat": 4,
  "nbformat_minor": 5
}